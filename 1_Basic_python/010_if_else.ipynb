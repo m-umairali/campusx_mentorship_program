{
 "cells": [
  {
   "cell_type": "markdown",
   "metadata": {},
   "source": [
    "# if else\n",
    "if else exists in every programming language. Sometime you write program and you give choice either to go to option 1 or option 2. This procedure is called if else. For example: If you score more than 80% in your admission test then you will admitted in the university otherwise you have to repeat it. This is called if else (branching). Another example, when you enter into facebook, you are being asked about your username and id, if you give both then you will be permitted to login otherwise not. \n",
    "\n",
    "Now let's practice:"
   ]
  },
  {
   "cell_type": "code",
   "execution_count": 1,
   "metadata": {},
   "outputs": [
    {
     "name": "stdout",
     "output_type": "stream",
     "text": [
      "You are login! \n"
     ]
    }
   ],
   "source": [
    "# Login \n",
    "email = input(\"Enter your email: \")\n",
    "password = input(\"enter your password: \")\n",
    "if email==\"umairalism@gmail.com\" and password==\"python\":\n",
    "    print(\"You are login! \")\n",
    "else:\n",
    "    print(\"You entered wrong email and password! \")"
   ]
  },
  {
   "cell_type": "markdown",
   "metadata": {},
   "source": [
    "*Take care of indentation (indentations are tab space)*\n",
    "\n",
    "*Above code I only used two conditions but there are many conditions you can put in your if else block using ```elif```.*"
   ]
  },
  {
   "cell_type": "code",
   "execution_count": 2,
   "metadata": {},
   "outputs": [
    {
     "name": "stdout",
     "output_type": "stream",
     "text": [
      "incorrect password\n",
      "Try again! \n"
     ]
    }
   ],
   "source": [
    "email = input(\"Enter your email: \")\n",
    "password = input(\"enter your password: \")\n",
    "if email == \"umairalism@gmail.com\" and password == \"python\":\n",
    "    print(\"You are login! \")\n",
    "elif email == \"umairalism@gmail.com\" and password !=\"python\":\n",
    "    print(\"incorrect password\")\n",
    "    password = input(\"Enter password again: \")\n",
    "    if password==\"1234\":\n",
    "        print(\"Welcome finally\")\n",
    "    else:\n",
    "        print(\"Try again! \")\n",
    "else:\n",
    "    print(\"You entered wrong email and password! \")"
   ]
  },
  {
   "cell_type": "code",
   "execution_count": 3,
   "metadata": {},
   "outputs": [
    {
     "name": "stdout",
     "output_type": "stream",
     "text": [
      "smallest is  2\n"
     ]
    }
   ],
   "source": [
    "# find the minimum number\n",
    "a = int(input(\"Enter first number: \"))\n",
    "b = int(input(\"Enter second number: \"))\n",
    "c = int(input(\"Enter third number: \"))\n",
    "\n",
    "if a<b and a<c:\n",
    "    print(\"smallest is \", a)\n",
    "elif b<c:\n",
    "    print(\"smallest is \", b)\n",
    "else:\n",
    "    print(\"smallest is \", c)"
   ]
  },
  {
   "cell_type": "code",
   "execution_count": 6,
   "metadata": {},
   "outputs": [
    {
     "name": "stdout",
     "output_type": "stream",
     "text": [
      "10\n"
     ]
    }
   ],
   "source": [
    "#simple calculater\n",
    "fnum = int(input(\"Enter first number: \"))\n",
    "snum = int(input(\"Enter second number: \"))\n",
    "operation = input(\"Plz enter the operation: \")\n",
    "\n",
    "if operation==\"+\":\n",
    "    print(fnum + snum)\n",
    "elif operation==\"-\":\n",
    "    print(fnum - snum)\n",
    "if operation==\"*\":\n",
    "    print(fnum * snum)\n",
    "else:\n",
    "    print(fnum / snum)"
   ]
  }
 ],
 "metadata": {
  "kernelspec": {
   "display_name": "Python 3.10.4 64-bit",
   "language": "python",
   "name": "python3"
  },
  "language_info": {
   "codemirror_mode": {
    "name": "ipython",
    "version": 3
   },
   "file_extension": ".py",
   "mimetype": "text/x-python",
   "name": "python",
   "nbconvert_exporter": "python",
   "pygments_lexer": "ipython3",
   "version": "3.10.4"
  },
  "orig_nbformat": 4,
  "vscode": {
   "interpreter": {
    "hash": "88ae099763d2fc933b271cffe6c993ba48a5564d44627aa3a873154926716d9e"
   }
  }
 },
 "nbformat": 4,
 "nbformat_minor": 2
}
