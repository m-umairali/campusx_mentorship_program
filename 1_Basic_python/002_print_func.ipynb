{
 "cells": [
  {
   "cell_type": "markdown",
   "metadata": {},
   "source": [
    "# print function\n",
    "\n",
    "There are many pre build functions in python but today we are going to start with the very basic function which is called ```print()``` function. print function is used to show anything which comes inside the bracket. You can put anything in the bracket like strings, numbers, objects and etc. \n",
    "\n",
    "## Syntax\n",
    "\n",
    "*print(object(s), sep=separator, end=end, file=file, flush=flush)*\n",
    "\n",
    "## Parameter Values\n",
    "\n",
    "|Parameter|Description|\n",
    "|:--|:---:|\n",
    "|object(s)|Any object, and as many as you like. Will be converted to string before printed|\n",
    "|sep='separator'|Optional. Specify how to separate the objects, if there is more than one. Default is|\n",
    "|end='end'|Optional. Specify what to print at the end. Default is '\\n' (line feed)|\n",
    "|file|Optional. An object with a write method. Default is sys.stdout|\n",
    "|flush|Optional. A Boolean, specifying if the output is flushed (True) or buffered (False). Default is False|\n",
    "\n",
    "\n",
    "<mark>If small brackets are placed with text is called function. For example  a(), x(), func()</mark>\n",
    "\n",
    " <mark>Python is a case sensitive language which mean you will face error if you type Print rather than print</mark>\n",
    "\n"
   ]
  },
  {
   "cell_type": "code",
   "execution_count": 2,
   "metadata": {},
   "outputs": [
    {
     "name": "stdout",
     "output_type": "stream",
     "text": [
      "Hello World\n"
     ]
    }
   ],
   "source": [
    "print('Hello World') #string"
   ]
  },
  {
   "cell_type": "code",
   "execution_count": 11,
   "metadata": {},
   "outputs": [
    {
     "name": "stdout",
     "output_type": "stream",
     "text": [
      "12345\n"
     ]
    }
   ],
   "source": [
    "print(\"12345\") # strings"
   ]
  },
  {
   "cell_type": "code",
   "execution_count": 9,
   "metadata": {},
   "outputs": [
    {
     "name": "stdout",
     "output_type": "stream",
     "text": [
      "27\n"
     ]
    }
   ],
   "source": [
    "print(27) #integer"
   ]
  },
  {
   "cell_type": "code",
   "execution_count": 10,
   "metadata": {},
   "outputs": [
    {
     "name": "stdout",
     "output_type": "stream",
     "text": [
      "True\n"
     ]
    }
   ],
   "source": [
    "print(True) # Boolean"
   ]
  },
  {
   "cell_type": "code",
   "execution_count": 8,
   "metadata": {},
   "outputs": [
    {
     "name": "stdout",
     "output_type": "stream",
     "text": [
      "7.7\n"
     ]
    }
   ],
   "source": [
    "print(7.7) # float number"
   ]
  },
  {
   "cell_type": "markdown",
   "metadata": {},
   "source": [
    "**These are all same ```'hello world', \"hello world\", \"\"\"hello world\"\"\"```**  *(a little difference which will be covered at later stage)*"
   ]
  },
  {
   "cell_type": "code",
   "execution_count": 13,
   "metadata": {},
   "outputs": [
    {
     "name": "stdout",
     "output_type": "stream",
     "text": [
      "Hllo 12 True\n"
     ]
    }
   ],
   "source": [
    "print(\"Hllo\", 12, True) # You can also print all data types values in single line of code"
   ]
  },
  {
   "cell_type": "code",
   "execution_count": 15,
   "metadata": {},
   "outputs": [
    {
     "name": "stdout",
     "output_type": "stream",
     "text": [
      "Hllo_12_True\n"
     ]
    }
   ],
   "source": [
    "print(\"Hllo\", 12, True, sep=\"_\") "
   ]
  },
  {
   "cell_type": "markdown",
   "metadata": {},
   "source": [
    "*When I print the values inside the bracket then each value was separated by space, you can also modify these space with anything you want*"
   ]
  },
  {
   "cell_type": "code",
   "execution_count": 17,
   "metadata": {},
   "outputs": [
    {
     "name": "stdout",
     "output_type": "stream",
     "text": [
      "hello world\n",
      "hello world\n"
     ]
    }
   ],
   "source": [
    "print(\"hello world\") \n",
    "print(\"hello world\")"
   ]
  },
  {
   "cell_type": "markdown",
   "metadata": {},
   "source": [
    "*As you can see the output of the code is always showing with line break. You can modify it using ```end``` parameter. Default value of ```end = '\\n'``` which mean line break*"
   ]
  },
  {
   "cell_type": "code",
   "execution_count": 19,
   "metadata": {},
   "outputs": [
    {
     "name": "stdout",
     "output_type": "stream",
     "text": [
      "hello world*******hello world\n"
     ]
    }
   ],
   "source": [
    "print(\"hello world\", end=\"*******\") \n",
    "print(\"hello world\")"
   ]
  },
  {
   "cell_type": "markdown",
   "metadata": {},
   "source": [
    "⚠️ *****You can execute any cell with the shortkey SHIFT+ENTER*****"
   ]
  },
  {
   "cell_type": "markdown",
   "metadata": {},
   "source": [
    "___"
   ]
  },
  {
   "cell_type": "markdown",
   "metadata": {},
   "source": [
    "# Doubts\n",
    "-  What is # mean?\n",
    "\n",
    "    - It is comment. It is excluded in your code when you run. Mostly it is used to tell the other people of why are you going to write that line of code\n",
    "\n",
    "-  What is ‘’, “”, “”””””, mean?\n",
    "\n",
    "    - Nothing, all are same, except “””””” is used when you print multiline string.\n"
   ]
  },
  {
   "cell_type": "code",
   "execution_count": null,
   "metadata": {},
   "outputs": [],
   "source": []
  },
  {
   "cell_type": "code",
   "execution_count": null,
   "metadata": {},
   "outputs": [],
   "source": []
  }
 ],
 "metadata": {
  "kernelspec": {
   "display_name": "Python 3.10.4 64-bit",
   "language": "python",
   "name": "python3"
  },
  "language_info": {
   "codemirror_mode": {
    "name": "ipython",
    "version": 3
   },
   "file_extension": ".py",
   "mimetype": "text/x-python",
   "name": "python",
   "nbconvert_exporter": "python",
   "pygments_lexer": "ipython3",
   "version": "3.10.4"
  },
  "orig_nbformat": 4,
  "vscode": {
   "interpreter": {
    "hash": "88ae099763d2fc933b271cffe6c993ba48a5564d44627aa3a873154926716d9e"
   }
  }
 },
 "nbformat": 4,
 "nbformat_minor": 2
}
