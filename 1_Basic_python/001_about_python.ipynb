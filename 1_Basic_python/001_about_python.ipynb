{
 "cells": [
  {
   "cell_type": "markdown",
   "metadata": {},
   "source": [
    "<h1 style=\"text-align:center\"> About Python </h1>\n",
    "\n",
    "I was in high school at the time, and one of my friends was quite interested in hacking. I was oblivious to languages and computer science terminology at the time. I only know the name of one language, which was \"Java.\" He told me the name of a language, \"Python,\" and some fascinating things he could perform with Python. I was literally giggling at the moment over the name of the language, like what a stupid name it is. He told me that he can automate a lot of things with Python, and that he can even develop an automatic bot with it.\n",
    "\n",
    "In a nutshell, he complimented me on Python. That's when I started thinking about Python. As soon as I was admitted to university, I decided to do the most of my work in Python. Since then, I've been exploring the vast horizons of this language, and I've come to the conclusion that Python is the most.\n",
    "\n",
    "Since 2019, I've been learning Python, and in this repository, I'll explain everything there is to know about the language. On November 7, 2022, Nitish CampusX started a virtual program which is called Data Science Mentorship program. I am part of this course for 7 months onward. In this repository I will add all the topics covered by Campusx as well as my knowledge.\n",
    "\n",
    "Following is the history of Python"
   ]
  },
  {
   "cell_type": "markdown",
   "metadata": {},
   "source": [
    "<center>\n",
    "<img src=\"https://python.land/wp-content/uploads/2020/12/python-timeline.jpg\" alt=\"drawing\" width=\"600\"/>\n",
    "\n",
    "\n",
    "#### Motivation to learn Python\n",
    "\n",
    "<img src=\"https://pythoninstitute.org/assets/620e4c1acea37426050716.png\" alt=\"drawing\" width=\"600\"/>\n",
    "\n",
    "</center>\n",
    "\n"
   ]
  },
  {
   "cell_type": "markdown",
   "metadata": {},
   "source": [
    "<h1 style=\"text-align:center\"> Why Python is popular</h1>\n",
    "\n",
    "- Design Philosophy\n",
    "    - Easiest language to learn\n",
    "    - More welcoming to the fresher\n",
    "- Batteries included\n",
    "    - Builtin libraries\n",
    "- General Purpose Language\n",
    "    - Procedural Programming\n",
    "    - Object Oriented Programming \n",
    "    - Functional Programming\n",
    "    - Can built Web applications, Mobile Applications, Data Science applications etc\n",
    "- Libraries/ Community\n",
    "     - Huge community\n",
    "     - Ton of libraries (137000 libraries are there at this data 90/11/2022)\n"
   ]
  },
  {
   "cell_type": "markdown",
   "metadata": {},
   "source": [
    "<h1 style=\"text-align:center\"> Why Python for Data Science</h1>\n",
    "Lets think why only Python is widely used in data science, In comparison there are many other language there like Java, C++, C and etc. The answer is very simple because: \n",
    "\n",
    "- Easy to learn\n",
    "- Proximity with Math\n",
    "    - Python handle mathematical operation with its famous libraries like Numpy, Tensorflow, Pandas, Scikit-Learn and etc\n",
    "- Community\n",
    "    \n",
    "**In short If your going to plan your future in Academia, then R language is mostly used. On the other hand if you are thinking to jump in the industry, then the no 1 choice is Python**"
   ]
  },
  {
   "cell_type": "markdown",
   "metadata": {},
   "source": [
    "___"
   ]
  },
  {
   "cell_type": "markdown",
   "metadata": {},
   "source": [
    "<h1 style=\"text-align:center\"> Doubts </h1>"
   ]
  },
  {
   "cell_type": "markdown",
   "metadata": {},
   "source": [
    "- Is python slow?\n",
    "    - Yes python is slow because it uses interpreter. But you can use libraries like Numpy for the faster math manipulation which is created over C language. \n",
    "- Difference between R and Python?\n",
    "    - Both are programming languages, R is the choice of academia because it is beautiful when it comes to draw the graphs and python is the choice of industry. \n",
    "- What is library?\n",
    "    - When we use somebody’s code, we can refer it as a library. \n"
   ]
  },
  {
   "cell_type": "markdown",
   "metadata": {},
   "source": [
    "___"
   ]
  }
 ],
 "metadata": {
  "language_info": {
   "name": "python"
  },
  "orig_nbformat": 4
 },
 "nbformat": 4,
 "nbformat_minor": 2
}
