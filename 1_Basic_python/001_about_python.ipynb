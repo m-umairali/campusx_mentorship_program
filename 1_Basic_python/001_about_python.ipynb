{
 "cells": [
  {
   "cell_type": "markdown",
   "metadata": {},
   "source": [
    "<h1 style=\"text-align:center\"> About Python </h1>\n",
    "\n",
    "I was in high school at the time, and one of my friends was quite interested in hacking. I was oblivious to languages and computer science terminology at the time. I only know the name of one language, which was \"Java.\" He told me the name of a language, \"Python,\" and some fascinating things he could perform with Python. I was literally giggling at the moment over the name of the language, like what a stupid name it is. He told me that he can automate a lot of things with Python, and that he can even develop an automatic bot with it.\n",
    "\n",
    "In a nutshell, he complimented me on Python. That's when I started thinking about Python. As soon as I was admitted to university, I decided to do the most of my work in Python. Since then, I've been exploring the vast horizons of this language, and I've come to the conclusion that Python is the most.\n",
    "\n",
    "Since 2019, I've been learning Python, and in this repository, I'll explain everything there is to know about the language. On November 7, 2022, Nitish CampusX started a virtual program which is called Data Science Mentorship program. I am part of this course for 7 months onward. In this repository I will add all the topics covered by Campusx as well as my knowledge.\n",
    "\n",
    "Following is the history of Python"
   ]
  },
  {
   "cell_type": "markdown",
   "metadata": {},
   "source": [
    "<center>\n",
    "<img src=\"https://python.land/wp-content/uploads/2020/12/python-timeline.jpg\" alt=\"drawing\" width=\"600\"/>\n",
    "\n",
    "\n",
    "#### Motivation to learn Python\n",
    "\n",
    "<img src=\"https://pythoninstitute.org/assets/620e4c1acea37426050716.png\" alt=\"drawing\" width=\"600\"/>\n",
    "\n",
    "</center>\n",
    "\n"
   ]
  },
  {
   "cell_type": "markdown",
   "metadata": {},
   "source": [
    "<h1 style=\"text-align:center\"> Why python is popular</h1>"
   ]
  },
  {
   "cell_type": "markdown",
   "metadata": {},
   "source": []
  },
  {
   "cell_type": "code",
   "execution_count": null,
   "metadata": {},
   "outputs": [],
   "source": []
  }
 ],
 "metadata": {
  "language_info": {
   "name": "python"
  },
  "orig_nbformat": 4
 },
 "nbformat": 4,
 "nbformat_minor": 2
}
