{
 "cells": [
  {
   "cell_type": "markdown",
   "metadata": {},
   "source": [
    "# Literals\n",
    "Simple answer of this question is what you add in variable is called literals. It could be any raw data or values.\n",
    " \n",
    "For example \n",
    "\n",
    "a = 2 where a is variable, = is operator, 2 is literal. \\\n",
    "\n",
    "\n",
    "Python has different types of literal such as:\n",
    "1. String literals\n",
    "2. Numeric literals\n",
    "3. Boolean literals\n",
    "5. Literal Collections\n",
    "7. Special literals"
   ]
  },
  {
   "cell_type": "markdown",
   "metadata": {},
   "source": [
    "___"
   ]
  },
  {
   "cell_type": "markdown",
   "metadata": {},
   "source": [
    "# Doubts\n",
    "- What is the difference between type conversion and type casting\n",
    "    - When we convert any data type into other\n",
    "- Do python support multiline comment?\n",
    "    - No python dont\n"
   ]
  },
  {
   "cell_type": "code",
   "execution_count": null,
   "metadata": {},
   "outputs": [],
   "source": []
  }
 ],
 "metadata": {
  "language_info": {
   "name": "python"
  },
  "orig_nbformat": 4
 },
 "nbformat": 4,
 "nbformat_minor": 2
}
