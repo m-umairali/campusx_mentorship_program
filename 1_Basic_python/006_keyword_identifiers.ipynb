{
 "cells": [
  {
   "cell_type": "markdown",
   "metadata": {},
   "source": [
    "# Keywords and Identifiers"
   ]
  },
  {
   "cell_type": "markdown",
   "metadata": {},
   "source": [
    "### Keywords\n",
    "Every programming language has special reserved words, or keywords, that have specific meanings and restrictions around how they should be used. Python is no different. Python keywords are the fundamental building blocks of any Python program.Python keywords are special reserved words that have specific meanings and purposes and can’t be used for anything but those specific purposes. You can get all keyword using ```help(\"keywords\")```. If you use keywords in your variable or something else it will hit your error. For example"
   ]
  },
  {
   "cell_type": "code",
   "execution_count": 3,
   "metadata": {},
   "outputs": [
    {
     "ename": "SyntaxError",
     "evalue": "invalid syntax (3254383865.py, line 1)",
     "output_type": "error",
     "traceback": [
      "\u001b[1;36m  Input \u001b[1;32mIn [3]\u001b[1;36m\u001b[0m\n\u001b[1;33m    from = \"this is keyword\"\u001b[0m\n\u001b[1;37m         ^\u001b[0m\n\u001b[1;31mSyntaxError\u001b[0m\u001b[1;31m:\u001b[0m invalid syntax\n"
     ]
    }
   ],
   "source": [
    "from = \"this is keyword\"\n",
    "print(from)"
   ]
  },
  {
   "cell_type": "code",
   "execution_count": 1,
   "metadata": {},
   "outputs": [
    {
     "name": "stdout",
     "output_type": "stream",
     "text": [
      "\n",
      "Here is a list of the Python keywords.  Enter any keyword to get more help.\n",
      "\n",
      "False               class               from                or\n",
      "None                continue            global              pass\n",
      "True                def                 if                  raise\n",
      "and                 del                 import              return\n",
      "as                  elif                in                  try\n",
      "assert              else                is                  while\n",
      "async               except              lambda              with\n",
      "await               finally             nonlocal            yield\n",
      "break               for                 not                 \n",
      "\n"
     ]
    }
   ],
   "source": [
    "help(\"keywords\")"
   ]
  },
  {
   "cell_type": "markdown",
   "metadata": {},
   "source": [
    "___"
   ]
  },
  {
   "cell_type": "markdown",
   "metadata": {},
   "source": [
    "### Identifiers\n",
    "\n",
    "A Python identifier is a name used to identify a variable, function, class, module or other object. An identifier starts with a letter A to Z or a to z or an underscore (_) followed by zero or more letters, underscores and digits (0 to 9).\n",
    "\n",
    "Python does not allow punctuation characters such as @, $, and % within identifiers. Python is a case sensitive programming language. Thus, Manpower and manpower are two different identifiers in Python.\n",
    "\n",
    "Here are naming conventions for Python identifiers −\n",
    "\n",
    "- Class names start with an uppercase letter. All other identifiers start with a lowercase letter.\n",
    "- Starting an identifier with a single leading underscore indicates that the identifier is private.\n",
    "- Starting an identifier with two leading underscores indicates a strongly private identifier.\n",
    "- If the identifier also ends with two trailing underscores, the identifier is a language-defined special name.\n",
    "\n",
    "#### Rules for Naming an Identifier\n",
    "- Identifiers cannot be a keyword. I showed list of keyword above.\n",
    "- Identifiers are case-sensitive. ```name``` and ```Name``` is different\n",
    "- It can have a sequence of letters and digits. However, it must begin with a letter or _. The first letter of an identifier cannot be a digit. For example it cannot be ```1name```\n",
    "- It's a convention to start an identifier with a letter rather ```_```\n",
    "- Whitespaces are not allowed. Example ```Name is = \"umair\"``` \n",
    "- We cannot use special symbols like !, @, #, $, and so on."
   ]
  },
  {
   "cell_type": "markdown",
   "metadata": {},
   "source": [
    "___"
   ]
  },
  {
   "cell_type": "markdown",
   "metadata": {},
   "source": [
    "# Doubts\n",
    "- Is interpreter slow\n",
    "    - Yes, because it translate every single line into low level code\n",
    "- Can we create new data type?\n",
    "    - Yes we can do it in object oriented programming\n",
    "- \n"
   ]
  },
  {
   "cell_type": "markdown",
   "metadata": {},
   "source": [
    "___"
   ]
  }
 ],
 "metadata": {
  "kernelspec": {
   "display_name": "Python 3.10.4 64-bit",
   "language": "python",
   "name": "python3"
  },
  "language_info": {
   "codemirror_mode": {
    "name": "ipython",
    "version": 3
   },
   "file_extension": ".py",
   "mimetype": "text/x-python",
   "name": "python",
   "nbconvert_exporter": "python",
   "pygments_lexer": "ipython3",
   "version": "3.10.4"
  },
  "orig_nbformat": 4,
  "vscode": {
   "interpreter": {
    "hash": "88ae099763d2fc933b271cffe6c993ba48a5564d44627aa3a873154926716d9e"
   }
  }
 },
 "nbformat": 4,
 "nbformat_minor": 2
}
