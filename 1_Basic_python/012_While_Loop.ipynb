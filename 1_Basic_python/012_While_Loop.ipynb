{
 "cells": [
  {
   "cell_type": "markdown",
   "metadata": {},
   "source": [
    "# Loops in Python\n",
    "loops help in executing one or more statements up to a desired number of times until certain conditions are met. All high-level programming languages provide various forms of loops, which can be used to execute one or more statements repeatedly.\n",
    "- While Loop\n",
    "- For Loop"
   ]
  },
  {
   "cell_type": "code",
   "execution_count": 2,
   "metadata": {},
   "outputs": [
    {
     "name": "stdout",
     "output_type": "stream",
     "text": [
      "12\n",
      "24\n",
      "36\n",
      "48\n",
      "60\n",
      "72\n",
      "84\n",
      "96\n",
      "108\n",
      "120\n"
     ]
    }
   ],
   "source": [
    "# Lets print the table\n",
    "number = int(input(\"Enter the Number\"))\n",
    "i = 1\n",
    "while i<11:\n",
    "    print(number * i)\n",
    "    i += 1"
   ]
  },
  {
   "cell_type": "markdown",
   "metadata": {},
   "source": [
    "### While loop with else "
   ]
  },
  {
   "cell_type": "code",
   "execution_count": 3,
   "metadata": {},
   "outputs": [
    {
     "name": "stdout",
     "output_type": "stream",
     "text": [
      "1\n",
      "2\n",
      "Limit crossed\n"
     ]
    }
   ],
   "source": [
    "x = 1\n",
    "while x < 3:\n",
    "    print(x)\n",
    "    x += 1\n",
    "else:\n",
    "    print(\"Limit crossed\")"
   ]
  },
  {
   "cell_type": "markdown",
   "metadata": {},
   "source": [
    "### Guessing game"
   ]
  },
  {
   "cell_type": "code",
   "execution_count": 4,
   "metadata": {},
   "outputs": [
    {
     "name": "stdout",
     "output_type": "stream",
     "text": [
      "Guess lower! \n",
      "Guess lower! \n",
      "Guess lower! \n",
      "Guess lower! \n",
      "Guess lower! \n",
      "Guess lower! \n",
      "Guess lower! \n",
      "Guess lower! \n",
      "Guess lower! \n",
      "Wrong! Guess higher\n",
      "Wrong! Guess higher\n",
      "Wrong! Guess higher\n",
      "Correct guess\n",
      "attempts:  13\n"
     ]
    }
   ],
   "source": [
    "# generate a random number between 1 to 100\n",
    "import random\n",
    "rand_num = random.randint(1,100)\n",
    "guess = int(input(\"Make Guess! \"))\n",
    "counter = 1\n",
    "\n",
    "while guess != rand_num:\n",
    "    if guess < rand_num:\n",
    "        print(\"Wrong! Guess higher\")\n",
    "    else:\n",
    "        print(\"Guess lower! \")\n",
    "    guess = int(input(\"Guess again! \"))\n",
    "    counter +=1\n",
    "else:\n",
    "    print(\"Correct guess\")\n",
    "    print(\"attempts: \", counter)"
   ]
  },
  {
   "cell_type": "code",
   "execution_count": null,
   "metadata": {},
   "outputs": [],
   "source": []
  }
 ],
 "metadata": {
  "kernelspec": {
   "display_name": "Python 3.10.4 64-bit",
   "language": "python",
   "name": "python3"
  },
  "language_info": {
   "codemirror_mode": {
    "name": "ipython",
    "version": 3
   },
   "file_extension": ".py",
   "mimetype": "text/x-python",
   "name": "python",
   "nbconvert_exporter": "python",
   "pygments_lexer": "ipython3",
   "version": "3.10.4"
  },
  "orig_nbformat": 4,
  "vscode": {
   "interpreter": {
    "hash": "88ae099763d2fc933b271cffe6c993ba48a5564d44627aa3a873154926716d9e"
   }
  }
 },
 "nbformat": 4,
 "nbformat_minor": 2
}
