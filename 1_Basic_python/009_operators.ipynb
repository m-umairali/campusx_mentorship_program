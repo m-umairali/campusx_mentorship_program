{
 "cells": [
  {
   "cell_type": "markdown",
   "metadata": {},
   "source": [
    "# Operators in Python"
   ]
  },
  {
   "cell_type": "markdown",
   "metadata": {},
   "source": [
    "We use operators when we want to do some operations on variables and values. For example you have two numbers and want to add add them, you will use + for this operations. Thus this + is something which we call operators. "
   ]
  },
  {
   "cell_type": "markdown",
   "metadata": {},
   "source": [
    "### 1. Arithmetic"
   ]
  },
  {
   "cell_type": "code",
   "execution_count": 2,
   "metadata": {},
   "outputs": [
    {
     "name": "stdout",
     "output_type": "stream",
     "text": [
      "4\n",
      "0\n",
      "4\n",
      "1.0\n",
      "2\n",
      "1\n",
      "25\n"
     ]
    }
   ],
   "source": [
    "print(2+2)  # Addition Operator \n",
    "print(2-2)  # Subtraction Operator\n",
    "print(2*2)  # Multiplication Operator\n",
    "print(2/2)  # Division Operator\n",
    "print(5//2) # integer division convert decimal into single integer\n",
    "print(5%2)  # Modules operator. It display the reminder of the division\n",
    "print(5**2) # Power Oprator. Simply display 5^2"
   ]
  },
  {
   "cell_type": "markdown",
   "metadata": {},
   "source": [
    "### Relational or Comparison Operators\n",
    "Relational operators are used to compare two values. For example I say which is bigger integer 5 or 2. You will definitly say 5 is bigger than 2 so here we use relational operators."
   ]
  },
  {
   "cell_type": "code",
   "execution_count": 6,
   "metadata": {},
   "outputs": [
    {
     "name": "stdout",
     "output_type": "stream",
     "text": [
      "True\n",
      "False\n",
      "True\n",
      "True\n",
      "True\n",
      "False\n"
     ]
    }
   ],
   "source": [
    "print(5>2) #greater than\n",
    "print(5<2) # less than\n",
    "print(4>=4) # greater than or equal to\n",
    "print(4<=4) # less than or equal to\n",
    "print(4==4) # is equal\n",
    "print(4!=4) # not equal"
   ]
  },
  {
   "cell_type": "markdown",
   "metadata": {},
   "source": [
    "### Logical Operators\n",
    "Logical operators are used to check whether an expression is True or False. They are used in decision-making. For example:"
   ]
  },
  {
   "cell_type": "code",
   "execution_count": 8,
   "metadata": {},
   "outputs": [
    {
     "name": "stdout",
     "output_type": "stream",
     "text": [
      "0\n",
      "1\n",
      "False\n"
     ]
    }
   ],
   "source": [
    "print(1 and 0) # will only be 1 if both are 1\n",
    "print(1 or 0)  # if any condition is true then it will be true\n",
    "print(not 1) # it convert 1 into 0 and 0 into 1. as we know 1 is true and 0 is false, thats why it will show False."
   ]
  },
  {
   "cell_type": "markdown",
   "metadata": {},
   "source": [
    "### Bitwise Operators\n",
    "Bitwise operators are special operators which act on operands as if they were strings of binary digits. They operate bit by bit on operands. \n",
    "\n",
    "<img src=\"https://techvidvan.com/tutorials/wp-content/uploads/sites/2/2019/12/types-of-bitwise-operators.jpg\" alt=\"drawing\" width=\"600\"/>\n",
    "\n",
    "### For Consideration of how bitwise operator work look this image: \n",
    "\n",
    "<img src=\"https://journaldev.nyc3.digitaloceanspaces.com/2019/02/python-bitwise-and-operator.png\" alt=\"drawing\" width=\"600\"/>"
   ]
  },
  {
   "cell_type": "code",
   "execution_count": 18,
   "metadata": {},
   "outputs": [
    {
     "name": "stdout",
     "output_type": "stream",
     "text": [
      "2\n",
      "15\n",
      "13\n",
      "1280\n",
      "0\n",
      "-8\n"
     ]
    }
   ],
   "source": [
    "print(10 & 7)  # bitwise and (look above image and you will get your concept clear)\n",
    "print(10 | 7)  #  bitwise or\n",
    "print(10 ^ 7)  #  bitwise xor\n",
    "print(10 << 7) # #bitwise left shift\n",
    "print(10 >> 7) #  bitwise right shift\n",
    "print(~ 7)     # bitwise not"
   ]
  },
  {
   "cell_type": "markdown",
   "metadata": {},
   "source": [
    "### Assignment Operators\n",
    "Assignment operators are used to assign values to variables. Different Kind of assignment operators are available\n",
    "\n",
    "<img src=\"https://www.devopsschool.com/blog/wp-content/uploads/2020/08/assignment-operator-in-python.png\" alt=\"drawing\" width=\"600\"/>\n"
   ]
  },
  {
   "cell_type": "markdown",
   "metadata": {},
   "source": []
  },
  {
   "cell_type": "code",
   "execution_count": null,
   "metadata": {},
   "outputs": [],
   "source": []
  }
 ],
 "metadata": {
  "kernelspec": {
   "display_name": "Python 3.10.4 64-bit",
   "language": "python",
   "name": "python3"
  },
  "language_info": {
   "codemirror_mode": {
    "name": "ipython",
    "version": 3
   },
   "file_extension": ".py",
   "mimetype": "text/x-python",
   "name": "python",
   "nbconvert_exporter": "python",
   "pygments_lexer": "ipython3",
   "version": "3.10.4"
  },
  "orig_nbformat": 4,
  "vscode": {
   "interpreter": {
    "hash": "88ae099763d2fc933b271cffe6c993ba48a5564d44627aa3a873154926716d9e"
   }
  }
 },
 "nbformat": 4,
 "nbformat_minor": 2
}
